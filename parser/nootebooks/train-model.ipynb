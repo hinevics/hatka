{
 "cells": [
  {
   "cell_type": "markdown",
   "id": "db55b7dd-556c-42aa-b463-4a7a9153e512",
   "metadata": {},
   "source": [
    "# Import model"
   ]
  },
  {
   "cell_type": "code",
   "execution_count": 1,
   "id": "d280deba-1ff1-4612-a1bc-ad098cc9056e",
   "metadata": {
    "tags": []
   },
   "outputs": [],
   "source": [
    "import pandas as pd\n",
    "import numpy as np\n",
    "import pickle\n",
    "import re\n",
    "\n",
    "import numpy as np\n",
    "from sklearn.decomposition import PCA\n",
    "from sklearn.manifold import TSNE\n",
    "\n",
    "from sklearn.feature_extraction.text import TfidfVectorizer\n",
    "import seaborn as sns\n",
    "\n",
    "import matplotlib.pyplot as plt"
   ]
  },
  {
   "cell_type": "markdown",
   "id": "5730b08b-701f-400d-a2db-e0bc0d69f9a0",
   "metadata": {},
   "source": [
    "# Load data"
   ]
  },
  {
   "cell_type": "code",
   "execution_count": 4,
   "id": "ac8a3f65-a1ec-4b81-aef2-912a15fe2bec",
   "metadata": {
    "tags": []
   },
   "outputs": [],
   "source": [
    "list_df = []\n",
    "for i in range(1, 31):\n",
    "    path = r'/home/khinevich/myproject/hatka/parser/data/data_{n}.pkl'.format(n=i)\n",
    "    with open(path, mode='br', ) as file:\n",
    "        d = pickle.load(file)\n",
    "        d = pd.DataFrame(d).T\n",
    "    list_df.append(d)\n",
    "dt = pd.concat(list_df)"
   ]
  },
  {
   "cell_type": "markdown",
   "id": "b1649cc7-bf9f-4599-9980-3e89c2f19a45",
   "metadata": {},
   "source": [
    "# Processing"
   ]
  },
  {
   "cell_type": "code",
   "execution_count": 6,
   "id": "7f443c05-1ea4-4268-9588-fbcdab5018f6",
   "metadata": {
    "tags": []
   },
   "outputs": [],
   "source": [
    "text_df = pd.DataFrame()\n",
    "text_df['text'] = dt.text + ' ' + dt.note"
   ]
  },
  {
   "cell_type": "code",
   "execution_count": 7,
   "id": "5f26853d-0d15-45bd-bca1-0e0452dae929",
   "metadata": {
    "tags": []
   },
   "outputs": [],
   "source": [
    "def clear_text(text: str) -> str:\n",
    "    text = text.lower()\n",
    "    text = re.sub(pattern=r'\\W', string=text, repl=' ')\n",
    "    text = re.sub(pattern='\\d+',repl=' NUMBER ', string=text)\n",
    "    text = ' '.join([i for i in text.split(' ') if (len(i) > 3 and i not in ['', ' '])])\n",
    "    return text"
   ]
  },
  {
   "cell_type": "code",
   "execution_count": null,
   "id": "e3d1a681-7241-4322-9ad8-f405a0d1cffe",
   "metadata": {},
   "outputs": [],
   "source": []
  }
 ],
 "metadata": {
  "kernelspec": {
   "display_name": "Python 3 (ipykernel)",
   "language": "python",
   "name": "python3"
  },
  "language_info": {
   "codemirror_mode": {
    "name": "ipython",
    "version": 3
   },
   "file_extension": ".py",
   "mimetype": "text/x-python",
   "name": "python",
   "nbconvert_exporter": "python",
   "pygments_lexer": "ipython3",
   "version": "3.8.16"
  },
  "widgets": {
   "application/vnd.jupyter.widget-state+json": {
    "state": {},
    "version_major": 2,
    "version_minor": 0
   }
  }
 },
 "nbformat": 4,
 "nbformat_minor": 5
}
